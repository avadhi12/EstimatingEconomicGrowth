{
 "cells": [
  {
   "cell_type": "markdown",
   "metadata": {
    "id": "STpk3lP63edZ"
   },
   "source": [
    "# Estimating Economic Growth using Deep Learning"
   ]
  },
  {
   "cell_type": "code",
   "execution_count": null,
   "metadata": {
    "id": "rqnk_UEI3edf"
   },
   "outputs": [],
   "source": [
    "import pandas as pd\n",
    "import numpy as np\n",
    "import matplotlib.pyplot as plt\n",
    "import seaborn as sns\n",
    "from sklearn.impute import KNNImputer\n",
    "from sklearn.decomposition import PCA"
   ]
  },
  {
   "cell_type": "code",
   "execution_count": null,
   "metadata": {
    "colab": {
     "base_uri": "https://localhost:8080/",
     "height": 439
    },
    "id": "mfEXPL8y3edg",
    "outputId": "a7ef8335-93f1-4bad-9ead-3c77e5875c94"
   },
   "outputs": [],
   "source": [
    "data = pd.read_csv('data.csv')\n",
    "data"
   ]
  },
  {
   "cell_type": "markdown",
   "metadata": {
    "id": "Tg3c9Vk43edh"
   },
   "source": [
    "## Analysing missing data"
   ]
  },
  {
   "cell_type": "code",
   "execution_count": null,
   "metadata": {
    "colab": {
     "base_uri": "https://localhost:8080/"
    },
    "id": "m_sVS8sL3edh",
    "outputId": "0a161336-63d1-4101-8348-78e3d8f20d0e"
   },
   "outputs": [],
   "source": [
    "data.isnull().sum()"
   ]
  },
  {
   "cell_type": "markdown",
   "metadata": {
    "id": "of5AZ0zg3edh"
   },
   "source": [
    "## Calculating GDP per capita"
   ]
  },
  {
   "cell_type": "code",
   "execution_count": null,
   "metadata": {
    "colab": {
     "base_uri": "https://localhost:8080/",
     "height": 0
    },
    "id": "ckYYBV2n3edi",
    "outputId": "07fca889-4e0d-495f-e311-4d68701731f0"
   },
   "outputs": [],
   "source": [
    "data['gdp_per_capita'] = data.gdp / data.population\n",
    "data.tail()"
   ]
  },
  {
   "cell_type": "markdown",
   "metadata": {
    "id": "2WEEG7Sn3edi"
   },
   "source": [
    "## Dropping the data with missing GDP per capita"
   ]
  },
  {
   "cell_type": "code",
   "execution_count": null,
   "metadata": {
    "colab": {
     "base_uri": "https://localhost:8080/"
    },
    "id": "hQ4WJk_A3edi",
    "outputId": "9b681cac-be3b-432b-c392-7a13a1468a47"
   },
   "outputs": [],
   "source": [
    "data.dropna(subset=['gdp_per_capita'], inplace=True)\n",
    "data.shape"
   ]
  },
  {
   "cell_type": "code",
   "execution_count": null,
   "metadata": {
    "id": "GDWeRgfQ3edj"
   },
   "outputs": [],
   "source": [
    "data.reset_index(inplace=True)\n",
    "data.drop('index', axis=1, inplace=True)"
   ]
  },
  {
   "cell_type": "markdown",
   "metadata": {
    "id": "HqPYzs8-3edm"
   },
   "source": [
    "## Imputing the NaN values using k-Nearest Neighbors"
   ]
  },
  {
   "cell_type": "code",
   "execution_count": null,
   "metadata": {
    "colab": {
     "base_uri": "https://localhost:8080/",
     "height": 0
    },
    "id": "SvLrlttz14sy",
    "outputId": "16000674-bfff-4b70-837f-913aa007c42f"
   },
   "outputs": [],
   "source": [
    "imp = KNNImputer(n_neighbors=20)\n",
    "data.iloc[:, 2:] = imp.fit_transform(data.iloc[:, 2:])\n",
    "data.head()"
   ]
  },
  {
   "cell_type": "markdown",
   "metadata": {},
   "source": [
    "## Changing base year of GDP deflator of every country to 2005"
   ]
  },
  {
   "cell_type": "code",
   "execution_count": null,
   "metadata": {},
   "outputs": [],
   "source": [
    "countries = data.country.unique()\n",
    "len(countries)"
   ]
  },
  {
   "cell_type": "code",
   "execution_count": null,
   "metadata": {
    "tags": []
   },
   "outputs": [],
   "source": [
    "for country in countries:\n",
    "    base = data['gdp_deflator'][(data.country == country) & (data.year == 2005)]\n",
    "    if(len(base) == 0):\n",
    "        base = data['gdp_deflator'][data.country == country].mean()\n",
    "    else:\n",
    "        base = base.iloc[0]\n",
    "    data.loc[data.country == country, 'gdp_deflator'] /= base / 100\n",
    "data.head()"
   ]
  },
  {
   "cell_type": "markdown",
   "metadata": {},
   "source": [
    "## Converting nominal variables to real variables"
   ]
  },
  {
   "cell_type": "code",
   "execution_count": null,
   "metadata": {},
   "outputs": [],
   "source": [
    "data.columns"
   ]
  },
  {
   "cell_type": "code",
   "execution_count": null,
   "metadata": {},
   "outputs": [],
   "source": [
    "nominal_var = ['gdp', 'foreign_direct_investment', 'gross_savings', 'education_expenditure', 'imports', 'exports', 'manufacturing', 'agriculture_forestry_fishing', 'industry', 'gdp_per_capita']\n",
    "for var in nominal_var:\n",
    "    data[var] /= data.gdp_deflator / 100\n",
    "data.drop('gdp_deflator', axis=1, inplace=True)\n",
    "data.head()"
   ]
  },
  {
   "cell_type": "markdown",
   "metadata": {
    "id": "X7bDngYU3edj"
   },
   "source": [
    "## Calculating change in GDP per capita"
   ]
  },
  {
   "cell_type": "code",
   "execution_count": null,
   "metadata": {
    "colab": {
     "base_uri": "https://localhost:8080/",
     "height": 0
    },
    "id": "TuOtdX1e3edj",
    "outputId": "f6b342bf-d4d1-4e1c-b113-b6be3dead621"
   },
   "outputs": [],
   "source": [
    "data_change = data.copy()\n",
    "data_change['gdp_per_capita2'] = 0\n",
    "data_change['gdp_per_capita2'][:-1] = data_change['gdp_per_capita'][1:]\n",
    "data_change['gdp_per_capita_change'] = data_change.gdp_per_capita2 - data_change.gdp_per_capita\n",
    "data_change.tail()"
   ]
  },
  {
   "cell_type": "code",
   "execution_count": null,
   "metadata": {
    "colab": {
     "base_uri": "https://localhost:8080/",
     "height": 0
    },
    "id": "tNhlugsM3edj",
    "outputId": "50cc17d9-bc66-4e5e-ce0e-32c08b20b94d"
   },
   "outputs": [],
   "source": [
    "data_change.iloc[:-1, 1:-3] = data_change.iloc[1:, 1:-3]\n",
    "data_change.tail()"
   ]
  },
  {
   "cell_type": "code",
   "execution_count": null,
   "metadata": {
    "colab": {
     "base_uri": "https://localhost:8080/",
     "height": 0
    },
    "id": "KKLHu3gb3edk",
    "outputId": "0d7e808c-c23b-4f47-eecf-2d11349daad1"
   },
   "outputs": [],
   "source": [
    "data_change.set_index('year', inplace=True)\n",
    "data_change.drop(2015, inplace=True)\n",
    "data_change.reset_index(inplace=True)\n",
    "data_change.year = data_change.year + 1\n",
    "data_change"
   ]
  },
  {
   "cell_type": "code",
   "execution_count": null,
   "metadata": {
    "id": "FMBZOTQm3edk"
   },
   "outputs": [],
   "source": [
    "data.drop(['year', 'country', 'gdp'], axis=1, inplace=True)\n",
    "data_change.drop(['year', 'country', 'gdp', 'gdp_per_capita', 'gdp_per_capita2'], axis=1, inplace=True)"
   ]
  },
  {
   "cell_type": "markdown",
   "metadata": {
    "id": "VYVqV9IQVKBK"
   },
   "source": [
    "## Data Visualization"
   ]
  },
  {
   "cell_type": "markdown",
   "metadata": {
    "id": "aG6t4hKH3edk"
   },
   "source": [
    "### Plot of the target variable"
   ]
  },
  {
   "cell_type": "code",
   "execution_count": null,
   "metadata": {
    "colab": {
     "base_uri": "https://localhost:8080/",
     "height": 0
    },
    "id": "W6JMl7rc3edl",
    "outputId": "b564aa0a-dd8f-45e7-d33f-7f1a90061083"
   },
   "outputs": [],
   "source": [
    "data.gdp_per_capita.plot()\n",
    "print('Mean:', data.gdp_per_capita.mean())\n",
    "print('Standard Deviation:', data.gdp_per_capita.std())\n",
    "print('Mean Absolute Deviation:', data.gdp_per_capita.mad())"
   ]
  },
  {
   "cell_type": "code",
   "execution_count": null,
   "metadata": {
    "colab": {
     "base_uri": "https://localhost:8080/",
     "height": 0
    },
    "id": "_Nn8UdnD3edl",
    "outputId": "3644bd3e-90ac-4afb-bc43-bc5aac58f11f"
   },
   "outputs": [],
   "source": [
    "data_change.gdp_per_capita_change.plot()\n",
    "print('Mean:', data_change.gdp_per_capita_change.mean())\n",
    "print('Standard Deviation:', data_change.gdp_per_capita_change.std())\n",
    "print('Mean Absolute Deviation:', data_change.gdp_per_capita_change.mad())"
   ]
  },
  {
   "cell_type": "markdown",
   "metadata": {
    "id": "x1le2jp63edn"
   },
   "source": [
    "### Correlation heatmap between the variables"
   ]
  },
  {
   "cell_type": "code",
   "execution_count": null,
   "metadata": {
    "colab": {
     "base_uri": "https://localhost:8080/",
     "height": 934
    },
    "id": "tiLFXN_E3edn",
    "outputId": "9742a6f5-e15b-469b-bb3c-44edee086652"
   },
   "outputs": [],
   "source": [
    "plt.figure(figsize=(15, 15))\n",
    "matrix = np.triu(data.corr())\n",
    "sns.heatmap(data.corr(), mask=matrix, square=True, linewidths=0.5)"
   ]
  },
  {
   "cell_type": "code",
   "execution_count": null,
   "metadata": {
    "colab": {
     "base_uri": "https://localhost:8080/",
     "height": 934
    },
    "id": "-O77JH6D3edn",
    "outputId": "e611c0c3-89a9-47d4-fa69-247ee9e190a6"
   },
   "outputs": [],
   "source": [
    "plt.figure(figsize=(15, 15))\n",
    "matrix = np.triu(data_change.corr())\n",
    "sns.heatmap(data_change.corr(), mask=matrix, square=True, linewidths=0.5)"
   ]
  },
  {
   "cell_type": "markdown",
   "metadata": {
    "id": "X1fmM4H9eJ2f"
   },
   "source": [
    "### Scatter plot between different input variables and target variable"
   ]
  },
  {
   "cell_type": "code",
   "execution_count": null,
   "metadata": {
    "colab": {
     "base_uri": "https://localhost:8080/",
     "height": 0
    },
    "id": "ZgoWaifxVObj",
    "outputId": "f2c4c4eb-0b90-4df6-cf74-1221100dba0f"
   },
   "outputs": [],
   "source": [
    "columns = data.columns\n",
    "for i in range(data.shape[1]-1):\n",
    "  data.plot.scatter(x=columns[i], y=columns[-1])"
   ]
  },
  {
   "cell_type": "code",
   "execution_count": null,
   "metadata": {},
   "outputs": [],
   "source": [
    "columns_change = data_change.columns\n",
    "for i in range(data_change.shape[1]-1):\n",
    "    data_change.plot.scatter(x=columns_change[i], y=columns_change[-1])"
   ]
  },
  {
   "cell_type": "markdown",
   "metadata": {
    "id": "RuIc9NAV3edn"
   },
   "source": [
    "## Saving the data to a CSV file"
   ]
  },
  {
   "cell_type": "code",
   "execution_count": null,
   "metadata": {
    "id": "QXfiB2pu3edo"
   },
   "outputs": [],
   "source": [
    "data.to_csv('data_final.csv', index=False)\n",
    "data_change.to_csv('data_change_final.csv', index=False)"
   ]
  }
 ],
 "metadata": {
  "colab": {
   "name": "data_analysis.ipynb",
   "provenance": []
  },
  "kernelspec": {
   "display_name": "Python 3.8.6 64-bit",
   "language": "python",
   "name": "python38664bit45eb3d0c727c4808b2b3f2e1855854fc"
  },
  "language_info": {
   "codemirror_mode": {
    "name": "ipython",
    "version": 3
   },
   "file_extension": ".py",
   "mimetype": "text/x-python",
   "name": "python",
   "nbconvert_exporter": "python",
   "pygments_lexer": "ipython3",
   "version": "3.8.6"
  },
  "metadata": {
   "interpreter": {
    "hash": "e7370f93d1d0cde622a1f8e1c04877d8463912d04d973331ad4851f04de6915a"
   }
  }
 },
 "nbformat": 4,
 "nbformat_minor": 1
}
